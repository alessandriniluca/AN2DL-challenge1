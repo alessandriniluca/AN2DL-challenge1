{
  "nbformat": 4,
  "nbformat_minor": 0,
  "metadata": {
    "colab": {
      "name": "GAN network.ipynb",
      "provenance": []
    },
    "kernelspec": {
      "name": "python3",
      "display_name": "Python 3"
    },
    "language_info": {
      "name": "python"
    },
    "accelerator": "GPU"
  },
  "cells": [
    {
      "cell_type": "code",
      "metadata": {
        "id": "RneQJVhICvTy"
      },
      "source": [
        "import tensorflow as tf\n",
        "from tensorflow.keras.layers import Input, Reshape, Dropout, Dense \n",
        "from tensorflow.keras.layers import Flatten, BatchNormalization\n",
        "from tensorflow.keras.layers import Activation, ZeroPadding2D\n",
        "from tensorflow.keras.layers import LeakyReLU\n",
        "from tensorflow.keras.layers import UpSampling2D, Conv2D\n",
        "from tensorflow.keras.models import Sequential, Model, load_model\n",
        "from tensorflow.keras.optimizers import Adam\n",
        "import numpy as np\n",
        "from PIL import Image\n",
        "from tqdm import tqdm\n",
        "import os \n",
        "import time\n",
        "import matplotlib.pyplot as plt"
      ],
      "execution_count": null,
      "outputs": []
    },
    {
      "cell_type": "code",
      "metadata": {
        "colab": {
          "base_uri": "https://localhost:8080/"
        },
        "id": "vfyth9oAC3XU",
        "outputId": "94dfbbcf-59a5-40b8-e4a2-ff8487459e47"
      },
      "source": [
        "from google.colab import drive\n",
        "drive.mount('/gdrive')"
      ],
      "execution_count": null,
      "outputs": [
        {
          "output_type": "stream",
          "name": "stdout",
          "text": [
            "Mounted at /gdrive\n"
          ]
        }
      ]
    },
    {
      "cell_type": "code",
      "metadata": {
        "colab": {
          "base_uri": "https://localhost:8080/"
        },
        "id": "xDbKisrZDWdD",
        "outputId": "3f54e75e-767a-43ce-8412-9de1578344d4"
      },
      "source": [
        "GENERATE_RES = 8 # Generation resolution factor \n",
        "# (1=32, 2=64, 3=96, 4=128, etc.)\n",
        "GENERATE_SQUARE = 32 * GENERATE_RES # rows/cols (should be square)\n",
        "IMAGE_CHANNELS = 3\n",
        "\n",
        "# Preview image \n",
        "PREVIEW_ROWS = 1\n",
        "PREVIEW_COLS = 1\n",
        "PREVIEW_MARGIN = 16\n",
        "\n",
        "# Size vector to generate images from\n",
        "SEED_SIZE = 100\n",
        "\n",
        "# Configuration\n",
        "DATA_PATH = '/gdrive/MyDrive/ANN/leaves_test_overUnder_sampled/train/Apple'\n",
        "EPOCHS = 2000\n",
        "BATCH_SIZE = 32\n",
        "BUFFER_SIZE = 60000\n",
        "\n",
        "print(f\"Will generate {GENERATE_SQUARE}px square images.\")"
      ],
      "execution_count": null,
      "outputs": [
        {
          "output_type": "stream",
          "name": "stdout",
          "text": [
            "Will generate 256px square images.\n"
          ]
        }
      ]
    },
    {
      "cell_type": "code",
      "metadata": {
        "colab": {
          "base_uri": "https://localhost:8080/"
        },
        "id": "mifDet_KDzJc",
        "outputId": "5fabb94f-a3b7-4ca8-c9a0-0bc519cf891c"
      },
      "source": [
        "training_binary_path = os.path.join(DATA_PATH,\n",
        "        f'training_data_{GENERATE_SQUARE}_{GENERATE_SQUARE}.npy')\n",
        "\n",
        "print(f\"Looking for file: {training_binary_path}\")\n",
        "\n",
        "if not os.path.isfile(training_binary_path):\n",
        "  start = time.time()\n",
        "  print(\"Loading training images...\")\n",
        "\n",
        "  training_data = []\n",
        "  faces_path = os.path.join(DATA_PATH)\n",
        "  for filename in tqdm(os.listdir(faces_path)):\n",
        "      path = os.path.join(faces_path,filename)\n",
        "      image = Image.open(path).resize((GENERATE_SQUARE,\n",
        "            GENERATE_SQUARE),Image.ANTIALIAS)\n",
        "      training_data.append(np.asarray(image))\n",
        "  training_data = np.reshape(training_data,(-1,GENERATE_SQUARE,\n",
        "            GENERATE_SQUARE,IMAGE_CHANNELS))\n",
        "  training_data = training_data.astype(np.float32)\n",
        "  training_data = training_data / 127.5 - 1.\n",
        "\n",
        "\n",
        "  print(\"Saving training image binary...\")\n",
        "  np.save(training_binary_path,training_data)\n",
        "  elapsed = time.time()-start\n",
        "\n",
        "else:\n",
        "  print(\"Loading previous training pickle...\")\n",
        "  training_data = np.load(training_binary_path)"
      ],
      "execution_count": null,
      "outputs": [
        {
          "output_type": "stream",
          "name": "stdout",
          "text": [
            "Looking for file: /gdrive/MyDrive/ANN/leaves_test_overUnder_sampled/train/Apple/training_data_256_256.npy\n",
            "Loading previous training pickle...\n"
          ]
        }
      ]
    },
    {
      "cell_type": "code",
      "metadata": {
        "id": "r7iNNmTVE-YH"
      },
      "source": [
        "train_dataset = tf.data.Dataset.from_tensor_slices(training_data).shuffle(BUFFER_SIZE).batch(BATCH_SIZE)"
      ],
      "execution_count": null,
      "outputs": []
    },
    {
      "cell_type": "code",
      "metadata": {
        "id": "4EvIAYvFFHVB"
      },
      "source": [
        "def build_generator(seed_size, channels):\n",
        "    model = Sequential()\n",
        "\n",
        "    model.add(Dense(4*4*256,activation=\"relu\",input_dim=seed_size))\n",
        "    model.add(Reshape((4,4,256)))\n",
        "\n",
        "    model.add(UpSampling2D())\n",
        "    model.add(Conv2D(256,kernel_size=3,padding=\"same\"))\n",
        "    model.add(BatchNormalization(momentum=0.8))\n",
        "    model.add(Activation(\"relu\"))\n",
        "\n",
        "    model.add(UpSampling2D())\n",
        "    model.add(Conv2D(256,kernel_size=3,padding=\"same\"))\n",
        "    model.add(BatchNormalization(momentum=0.8))\n",
        "    model.add(Activation(\"relu\"))\n",
        "   \n",
        "    # Output resolution, additional upsampling\n",
        "    model.add(UpSampling2D())\n",
        "    model.add(Conv2D(128,kernel_size=3,padding=\"same\"))\n",
        "    model.add(BatchNormalization(momentum=0.8))\n",
        "    model.add(Activation(\"relu\"))\n",
        "\n",
        "    if GENERATE_RES>1:\n",
        "      model.add(UpSampling2D(size=(GENERATE_RES,GENERATE_RES)))\n",
        "      model.add(Conv2D(128,kernel_size=3,padding=\"same\"))\n",
        "      model.add(BatchNormalization(momentum=0.8))\n",
        "      model.add(Activation(\"relu\"))\n",
        "\n",
        "    # Final CNN layer\n",
        "    model.add(Conv2D(channels,kernel_size=3,padding=\"same\"))\n",
        "    model.add(Activation(\"tanh\"))\n",
        "\n",
        "    return model\n",
        "\n",
        "\n",
        "def build_discriminator(image_shape):\n",
        "    model = Sequential()\n",
        "\n",
        "    model.add(Conv2D(32, kernel_size=3, strides=2, input_shape=image_shape, \n",
        "                     padding=\"same\"))\n",
        "    model.add(LeakyReLU(alpha=0.2))\n",
        "\n",
        "    model.add(Dropout(0.25))\n",
        "    model.add(Conv2D(64, kernel_size=3, strides=2, padding=\"same\"))\n",
        "    model.add(ZeroPadding2D(padding=((0,1),(0,1))))\n",
        "    model.add(BatchNormalization(momentum=0.8))\n",
        "    model.add(LeakyReLU(alpha=0.2))\n",
        "\n",
        "    model.add(Dropout(0.25))\n",
        "    model.add(Conv2D(128, kernel_size=3, strides=2, padding=\"same\"))\n",
        "    model.add(BatchNormalization(momentum=0.8))\n",
        "    model.add(LeakyReLU(alpha=0.2))\n",
        "\n",
        "    model.add(Dropout(0.25))\n",
        "    model.add(Conv2D(256, kernel_size=3, strides=1, padding=\"same\"))\n",
        "    model.add(BatchNormalization(momentum=0.8))\n",
        "    model.add(LeakyReLU(alpha=0.2))\n",
        "\n",
        "    model.add(Dropout(0.25))\n",
        "    model.add(Conv2D(512, kernel_size=3, strides=1, padding=\"same\"))\n",
        "    model.add(BatchNormalization(momentum=0.8))\n",
        "    model.add(LeakyReLU(alpha=0.2))\n",
        "\n",
        "    model.add(Dropout(0.25))\n",
        "    model.add(Flatten())\n",
        "    model.add(Dense(1, activation='sigmoid'))\n",
        "\n",
        "    return model"
      ],
      "execution_count": null,
      "outputs": []
    },
    {
      "cell_type": "code",
      "metadata": {
        "id": "LiDaSRdnFP-2"
      },
      "source": [
        "def save_images(cnt,noise):\n",
        "  image_array = np.full(( \n",
        "      PREVIEW_MARGIN + (PREVIEW_ROWS * (GENERATE_SQUARE+PREVIEW_MARGIN)), \n",
        "      PREVIEW_MARGIN + (PREVIEW_COLS * (GENERATE_SQUARE+PREVIEW_MARGIN)), 3), \n",
        "      255, dtype=np.uint8)\n",
        "  \n",
        "  generated_images = generator.predict(noise)\n",
        "\n",
        "  generated_images = 0.5 * generated_images + 0.5\n",
        "\n",
        "  image_count = 0\n",
        "  for row in range(PREVIEW_ROWS):\n",
        "      for col in range(PREVIEW_COLS):\n",
        "        r = row * (GENERATE_SQUARE+16) + PREVIEW_MARGIN\n",
        "        c = col * (GENERATE_SQUARE+16) + PREVIEW_MARGIN\n",
        "        image_array[r:r+GENERATE_SQUARE,c:c+GENERATE_SQUARE]  = generated_images[image_count] * 255\n",
        "        image_count += 1\n",
        "\n",
        "          \n",
        "  output_path = os.path.join(DATA_PATH,'output')\n",
        "  if not os.path.exists(output_path):\n",
        "    os.makedirs(output_path)\n",
        "  \n",
        "  filename = os.path.join(output_path,f\"train-{cnt}.png\")\n",
        "  im = Image.fromarray(image_array)\n",
        "  im.save(filename)"
      ],
      "execution_count": null,
      "outputs": []
    },
    {
      "cell_type": "code",
      "metadata": {
        "colab": {
          "base_uri": "https://localhost:8080/",
          "height": 286
        },
        "id": "VpnM6mJiFQlY",
        "outputId": "d107af47-8ed0-49e0-e0bd-ee42eb8a89f0"
      },
      "source": [
        "generator = build_generator(SEED_SIZE, IMAGE_CHANNELS)\n",
        "\n",
        "noise = tf.random.normal([1, SEED_SIZE])\n",
        "generated_image = generator(noise, training=False)\n",
        "\n",
        "plt.imshow(generated_image[0, :, :, 0])"
      ],
      "execution_count": null,
      "outputs": [
        {
          "output_type": "execute_result",
          "data": {
            "text/plain": [
              "<matplotlib.image.AxesImage at 0x7fd97018a3d0>"
            ]
          },
          "metadata": {},
          "execution_count": 8
        },
        {
          "output_type": "display_data",
          "data": {
            "image/png": "[encoded data removed]",
            "text/plain": [
              "<Figure size 432x288 with 1 Axes>"
            ]
          },
          "metadata": {
            "needs_background": "light"
          }
        }
      ]
    },
    {
      "cell_type": "code",
      "metadata": {
        "colab": {
          "base_uri": "https://localhost:8080/"
        },
        "id": "ljj7MEp7FYqD",
        "outputId": "7865fbc7-ed4d-41ba-f71f-3addb40b1220"
      },
      "source": [
        "image_shape = (GENERATE_SQUARE,GENERATE_SQUARE,IMAGE_CHANNELS)\n",
        "\n",
        "discriminator = build_discriminator(image_shape)\n",
        "decision = discriminator(generated_image)\n",
        "print(decision)"
      ],
      "execution_count": null,
      "outputs": [
        {
          "output_type": "stream",
          "name": "stdout",
          "text": [
            "tf.Tensor([[0.49958503]], shape=(1, 1), dtype=float32)\n"
          ]
        }
      ]
    },
    {
      "cell_type": "code",
      "metadata": {
        "id": "I6XcGyKuFsMS"
      },
      "source": [
        "cross_entropy = tf.keras.losses.BinaryCrossentropy()\n",
        "\n",
        "def discriminator_loss(real_output, fake_output):\n",
        "    real_loss = cross_entropy(tf.ones_like(real_output), real_output)\n",
        "    fake_loss = cross_entropy(tf.zeros_like(fake_output), fake_output)\n",
        "    total_loss = real_loss + fake_loss\n",
        "    return total_loss\n",
        "\n",
        "def generator_loss(fake_output):\n",
        "    return cross_entropy(tf.ones_like(fake_output), fake_output)"
      ],
      "execution_count": null,
      "outputs": []
    },
    {
      "cell_type": "code",
      "metadata": {
        "id": "W2NwcMVMFtJy"
      },
      "source": [
        "generator_optimizer = tf.keras.optimizers.Adam(1.5e-4,0.5)\n",
        "discriminator_optimizer = tf.keras.optimizers.Adam(1.5e-4,0.5)"
      ],
      "execution_count": null,
      "outputs": []
    },
    {
      "cell_type": "code",
      "metadata": {
        "id": "ni3OHiyLFvpT"
      },
      "source": [
        "@tf.function\n",
        "def train_step(images):\n",
        "  seed = tf.random.normal([BATCH_SIZE, SEED_SIZE])\n",
        "\n",
        "  with tf.GradientTape() as gen_tape, tf.GradientTape() as disc_tape:\n",
        "    generated_images = generator(seed, training=True)\n",
        "\n",
        "    real_output = discriminator(images, training=True)\n",
        "    fake_output = discriminator(generated_images, training=True)\n",
        "\n",
        "    gen_loss = generator_loss(fake_output)\n",
        "    disc_loss = discriminator_loss(real_output, fake_output)\n",
        "    \n",
        "\n",
        "    gradients_of_generator = gen_tape.gradient(gen_loss, generator.trainable_variables)\n",
        "    gradients_of_discriminator = disc_tape.gradient(disc_loss, discriminator.trainable_variables)\n",
        "\n",
        "    generator_optimizer.apply_gradients(zip(gradients_of_generator, generator.trainable_variables))\n",
        "\n",
        "    discriminator_optimizer.apply_gradients(zip(gradients_of_discriminator, discriminator.trainable_variables))\n",
        "    \n",
        "  return gen_loss,disc_loss"
      ],
      "execution_count": null,
      "outputs": []
    },
    {
      "cell_type": "markdown",
      "metadata": {
        "id": "Mp-EwcgcF7JC"
      },
      "source": [
        "#START TRAINING"
      ]
    },
    {
      "cell_type": "code",
      "metadata": {
        "id": "W95LbZmfFziU"
      },
      "source": [
        "def train(dataset, epochs):\n",
        "  fixed_seed = np.random.normal(0, 1, (PREVIEW_ROWS * PREVIEW_COLS,SEED_SIZE))\n",
        "  start = time.time()\n",
        "\n",
        "  for epoch in range(epochs):\n",
        "    epoch_start = time.time()\n",
        "\n",
        "    gen_loss_list = []\n",
        "    disc_loss_list = []\n",
        "\n",
        "    for image_batch in dataset:\n",
        "      t = train_step(image_batch)\n",
        "      gen_loss_list.append(t[0])\n",
        "      disc_loss_list.append(t[1])\n",
        "\n",
        "    g_loss = sum(gen_loss_list) / len(gen_loss_list)\n",
        "    d_loss = sum(disc_loss_list) / len(disc_loss_list)\n",
        "\n",
        "    epoch_elapsed = time.time()-epoch_start\n",
        "    print(f'Epoch {epoch+1}, gen loss={g_loss},disc loss={d_loss},')\n",
        "    save_images(epoch,fixed_seed)"
      ],
      "execution_count": null,
      "outputs": []
    },
    {
      "cell_type": "code",
      "metadata": {
        "colab": {
          "base_uri": "https://localhost:8080/"
        },
        "id": "_EauPZzHF-Vf",
        "outputId": "7739346e-27c0-402b-9bc7-04c2066407f5"
      },
      "source": [
        "train(train_dataset, EPOCHS)"
      ],
      "execution_count": null,
      "outputs": [
        {
          "output_type": "stream",
          "name": "stdout",
          "text": [
            "Epoch 1, gen loss=5.575672626495361,disc loss=3.9209201335906982,\n",
            "Epoch 2, gen loss=6.666989803314209,disc loss=2.317318916320801,\n",
            "Epoch 3, gen loss=4.686456680297852,disc loss=5.217320919036865,\n",
            "Epoch 4, gen loss=4.667952537536621,disc loss=4.259641647338867,\n",
            "Epoch 5, gen loss=3.269606351852417,disc loss=5.24399995803833,\n",
            "Epoch 6, gen loss=3.1170740127563477,disc loss=5.191384792327881,\n",
            "Epoch 7, gen loss=3.1117959022521973,disc loss=4.615347862243652,\n",
            "Epoch 8, gen loss=3.4592702388763428,disc loss=3.617197275161743,\n",
            "Epoch 9, gen loss=3.525418519973755,disc loss=3.357637643814087,\n",
            "Epoch 10, gen loss=3.2478368282318115,disc loss=3.7908456325531006,\n",
            "Epoch 11, gen loss=3.542860507965088,disc loss=3.5948922634124756,\n",
            "Epoch 12, gen loss=3.489391565322876,disc loss=3.6064844131469727,\n",
            "Epoch 13, gen loss=3.3630707263946533,disc loss=2.830019950866699,\n",
            "Epoch 14, gen loss=3.7558343410491943,disc loss=3.1146016120910645,\n",
            "Epoch 15, gen loss=3.727480173110962,disc loss=3.4467031955718994,\n",
            "Epoch 16, gen loss=3.17410945892334,disc loss=2.2640583515167236,\n",
            "Epoch 17, gen loss=3.6496267318725586,disc loss=2.65923810005188,\n",
            "Epoch 18, gen loss=3.668299436569214,disc loss=2.0017971992492676,\n",
            "Epoch 19, gen loss=3.5033864974975586,disc loss=2.420297861099243,\n",
            "Epoch 20, gen loss=3.982218027114868,disc loss=2.0401992797851562,\n",
            "Epoch 21, gen loss=4.1309027671813965,disc loss=2.2210474014282227,\n",
            "Epoch 22, gen loss=5.193823337554932,disc loss=1.392266869544983,\n",
            "Epoch 23, gen loss=4.31790828704834,disc loss=1.1288259029388428,\n",
            "Epoch 24, gen loss=5.2871832847595215,disc loss=1.8316740989685059,\n",
            "Epoch 25, gen loss=5.576940536499023,disc loss=1.5498086214065552,\n",
            "Epoch 26, gen loss=5.1275763511657715,disc loss=1.1496500968933105,\n",
            "Epoch 27, gen loss=6.543087482452393,disc loss=1.770700454711914,\n",
            "Epoch 28, gen loss=6.281440258026123,disc loss=1.9342155456542969,\n",
            "Epoch 29, gen loss=6.68507194519043,disc loss=1.9969401359558105,\n",
            "Epoch 30, gen loss=6.106103420257568,disc loss=1.8331184387207031,\n",
            "Epoch 31, gen loss=6.12955379486084,disc loss=1.0086711645126343,\n",
            "Epoch 32, gen loss=6.962997913360596,disc loss=1.5056990385055542,\n",
            "Epoch 33, gen loss=6.259524822235107,disc loss=1.0576000213623047,\n",
            "Epoch 34, gen loss=6.514098644256592,disc loss=1.00485098361969,\n",
            "Epoch 35, gen loss=9.637311935424805,disc loss=1.7889726161956787,\n",
            "Epoch 36, gen loss=7.237441062927246,disc loss=0.7439776062965393,\n",
            "Epoch 37, gen loss=6.62762975692749,disc loss=0.5043407082557678,\n",
            "Epoch 38, gen loss=7.85039758682251,disc loss=2.357267141342163,\n",
            "Epoch 39, gen loss=7.33324670791626,disc loss=1.376920223236084,\n",
            "Epoch 40, gen loss=8.409125328063965,disc loss=1.7201342582702637,\n",
            "Epoch 41, gen loss=9.39162540435791,disc loss=1.683997631072998,\n",
            "Epoch 42, gen loss=9.106974601745605,disc loss=1.0047391653060913,\n",
            "Epoch 43, gen loss=9.073431015014648,disc loss=0.7400715351104736,\n",
            "Epoch 44, gen loss=8.056513786315918,disc loss=0.5987555980682373,\n",
            "Epoch 45, gen loss=8.873321533203125,disc loss=0.7098087668418884,\n",
            "Epoch 46, gen loss=7.155649662017822,disc loss=0.48893535137176514,\n",
            "Epoch 47, gen loss=9.036449432373047,disc loss=0.8527452945709229,\n",
            "Epoch 48, gen loss=8.27281665802002,disc loss=0.37707075476646423,\n",
            "Epoch 49, gen loss=7.4985175132751465,disc loss=0.2935653030872345,\n",
            "Epoch 50, gen loss=15.44941234588623,disc loss=1.829285979270935,\n",
            "Epoch 51, gen loss=8.732051849365234,disc loss=0.32256004214286804,\n",
            "Epoch 52, gen loss=8.011591911315918,disc loss=0.34381791949272156,\n",
            "Epoch 53, gen loss=9.51513957977295,disc loss=0.19842976331710815,\n",
            "Epoch 54, gen loss=10.178050994873047,disc loss=0.17886821925640106,\n",
            "Epoch 55, gen loss=15.746356964111328,disc loss=2.1591930389404297,\n",
            "Epoch 56, gen loss=9.39035415649414,disc loss=0.18078631162643433,\n",
            "Epoch 57, gen loss=17.304269790649414,disc loss=0.941839337348938,\n",
            "Epoch 58, gen loss=13.921586036682129,disc loss=1.5006012916564941,\n",
            "Epoch 59, gen loss=15.146989822387695,disc loss=1.0666797161102295,\n",
            "Epoch 60, gen loss=9.832246780395508,disc loss=0.15609636902809143,\n",
            "Epoch 61, gen loss=10.413986206054688,disc loss=0.13935357332229614,\n",
            "Epoch 62, gen loss=11.075197219848633,disc loss=0.19910794496536255,\n",
            "Epoch 63, gen loss=10.047876358032227,disc loss=0.1378193497657776,\n",
            "Epoch 64, gen loss=10.924718856811523,disc loss=0.07826265692710876,\n",
            "Epoch 65, gen loss=11.742389678955078,disc loss=0.22063322365283966,\n",
            "Epoch 66, gen loss=12.742218017578125,disc loss=0.19364704191684723,\n",
            "Epoch 67, gen loss=11.08049488067627,disc loss=0.0798162892460823,\n",
            "Epoch 68, gen loss=11.597932815551758,disc loss=0.0965069904923439,\n",
            "Epoch 69, gen loss=21.5357608795166,disc loss=3.2451608180999756,\n",
            "Epoch 70, gen loss=13.606380462646484,disc loss=0.22489520907402039,\n",
            "Epoch 71, gen loss=34.91700744628906,disc loss=3.2735469341278076,\n",
            "Epoch 72, gen loss=14.05307674407959,disc loss=0.10344534367322922,\n",
            "Epoch 73, gen loss=18.123924255371094,disc loss=0.07650375366210938,\n",
            "Epoch 74, gen loss=8.998591423034668,disc loss=0.10899804532527924,\n",
            "Epoch 75, gen loss=17.552406311035156,disc loss=0.06287387013435364,\n",
            "Epoch 76, gen loss=13.314881324768066,disc loss=0.03405744582414627,\n",
            "Epoch 77, gen loss=14.65162181854248,disc loss=0.09449165314435959,\n",
            "Epoch 78, gen loss=15.057741165161133,disc loss=0.17362016439437866,\n",
            "Epoch 79, gen loss=15.768718719482422,disc loss=0.2081325501203537,\n",
            "Epoch 80, gen loss=34.59256362915039,disc loss=2.8210277557373047,\n",
            "Epoch 81, gen loss=13.912276268005371,disc loss=0.04456203430891037,\n",
            "Epoch 82, gen loss=27.024852752685547,disc loss=1.7154220342636108,\n",
            "Epoch 83, gen loss=45.850215911865234,disc loss=4.776268482208252,\n",
            "Epoch 84, gen loss=34.44713592529297,disc loss=0.17976512014865875,\n",
            "Epoch 85, gen loss=19.731422424316406,disc loss=0.14806640148162842,\n",
            "Epoch 86, gen loss=25.11308479309082,disc loss=0.11399377882480621,\n",
            "Epoch 87, gen loss=26.079181671142578,disc loss=0.06397803127765656,\n",
            "Epoch 88, gen loss=20.4259033203125,disc loss=0.03533878177404404,\n",
            "Epoch 89, gen loss=16.54743194580078,disc loss=0.0625472217798233,\n",
            "Epoch 90, gen loss=14.502646446228027,disc loss=0.019889218732714653,\n",
            "Epoch 91, gen loss=24.297218322753906,disc loss=0.24913936853408813,\n",
            "Epoch 92, gen loss=38.03702926635742,disc loss=0.03922485187649727,\n",
            "Epoch 93, gen loss=22.709083557128906,disc loss=0.14081032574176788,\n",
            "Epoch 94, gen loss=22.485557556152344,disc loss=0.08486965298652649,\n",
            "Epoch 95, gen loss=22.24016571044922,disc loss=0.06362619996070862,\n",
            "Epoch 96, gen loss=35.5605583190918,disc loss=0.09974124282598495,\n",
            "Epoch 97, gen loss=25.50643539428711,disc loss=0.003406113013625145,\n",
            "Epoch 98, gen loss=21.782962799072266,disc loss=0.03276572749018669,\n",
            "Epoch 99, gen loss=20.89801788330078,disc loss=0.018431641161441803,\n",
            "Epoch 100, gen loss=17.792476654052734,disc loss=0.03969274088740349,\n",
            "Epoch 101, gen loss=21.634544372558594,disc loss=0.05368372052907944,\n",
            "Epoch 102, gen loss=26.728464126586914,disc loss=0.1882227063179016,\n",
            "Epoch 103, gen loss=61.30856704711914,disc loss=8.834927558898926,\n",
            "Epoch 104, gen loss=15.76646900177002,disc loss=0.13189689815044403,\n",
            "Epoch 105, gen loss=19.52887725830078,disc loss=0.0681307315826416,\n",
            "Epoch 106, gen loss=19.95441246032715,disc loss=0.101466603577137,\n",
            "Epoch 107, gen loss=17.49515151977539,disc loss=0.045042842626571655,\n",
            "Epoch 108, gen loss=19.699304580688477,disc loss=0.03986896201968193,\n",
            "Epoch 109, gen loss=34.66515350341797,disc loss=0.021444644778966904,\n",
            "Epoch 110, gen loss=16.320037841796875,disc loss=0.00667999591678381,\n",
            "Epoch 111, gen loss=28.53958511352539,disc loss=0.04533543437719345,\n",
            "Epoch 112, gen loss=27.57872200012207,disc loss=0.04466529190540314,\n",
            "Epoch 113, gen loss=38.64703369140625,disc loss=9.228011913364753e-05,\n",
            "Epoch 114, gen loss=15.764265060424805,disc loss=0.017791498452425003,\n",
            "Epoch 115, gen loss=16.39762306213379,disc loss=0.011291014030575752,\n",
            "Epoch 116, gen loss=15.826784133911133,disc loss=0.002029656432569027,\n",
            "Epoch 117, gen loss=15.814224243164062,disc loss=0.01312242541462183,\n",
            "Epoch 118, gen loss=27.591590881347656,disc loss=0.017839843407273293,\n",
            "Epoch 119, gen loss=23.01171112060547,disc loss=0.01834571361541748,\n",
            "Epoch 120, gen loss=26.451162338256836,disc loss=0.02030559815466404,\n",
            "Epoch 121, gen loss=27.193267822265625,disc loss=0.026382023468613625,\n",
            "Epoch 122, gen loss=29.369829177856445,disc loss=0.04924650490283966,\n",
            "Epoch 123, gen loss=32.27287673950195,disc loss=0.0415150448679924,\n",
            "Epoch 124, gen loss=29.859323501586914,disc loss=0.016132773831486702,\n",
            "Epoch 125, gen loss=24.71563148498535,disc loss=0.024113118648529053,\n",
            "Epoch 126, gen loss=38.10932159423828,disc loss=0.10754034668207169,\n",
            "Epoch 127, gen loss=26.7703914642334,disc loss=0.00029836513567715883,\n",
            "Epoch 128, gen loss=31.41617774963379,disc loss=0.0010611910838633776,\n",
            "Epoch 129, gen loss=27.12723159790039,disc loss=0.00036333920434117317,\n",
            "Epoch 130, gen loss=25.854671478271484,disc loss=0.0016713520744815469,\n",
            "Epoch 131, gen loss=29.543601989746094,disc loss=0.0018172746058553457,\n",
            "Epoch 132, gen loss=27.856586456298828,disc loss=0.011528409086167812,\n",
            "Epoch 133, gen loss=32.12068176269531,disc loss=0.03856135904788971,\n",
            "Epoch 134, gen loss=28.021846771240234,disc loss=0.0012185995001345873,\n",
            "Epoch 135, gen loss=27.78491973876953,disc loss=0.0007535057957284153,\n",
            "Epoch 136, gen loss=28.66270637512207,disc loss=0.01532989926636219,\n",
            "Epoch 137, gen loss=24.491127014160156,disc loss=0.00897821132093668,\n",
            "Epoch 138, gen loss=31.349897384643555,disc loss=0.01560816541314125,\n",
            "Epoch 139, gen loss=29.85373878479004,disc loss=0.022180721163749695,\n",
            "Epoch 140, gen loss=31.13947296142578,disc loss=0.013472657650709152,\n",
            "Epoch 141, gen loss=26.48122215270996,disc loss=0.00012352528574410826,\n",
            "Epoch 142, gen loss=26.02644157409668,disc loss=0.0005995800020173192,\n",
            "Epoch 143, gen loss=28.610015869140625,disc loss=0.0011211116798222065,\n",
            "Epoch 144, gen loss=27.313465118408203,disc loss=0.027034638449549675,\n",
            "Epoch 145, gen loss=107.17853546142578,disc loss=21.289823532104492,\n",
            "Epoch 146, gen loss=72.1982421875,disc loss=0.4130362272262573,\n",
            "Epoch 147, gen loss=65.11807250976562,disc loss=0.027453087270259857,\n",
            "Epoch 148, gen loss=24.61095428466797,disc loss=0.008395630866289139,\n",
            "Epoch 149, gen loss=16.835824966430664,disc loss=0.018005620688199997,\n",
            "Epoch 150, gen loss=16.33875274658203,disc loss=0.03599961847066879,\n",
            "Epoch 151, gen loss=15.19034481048584,disc loss=0.002657085657119751,\n",
            "Epoch 152, gen loss=16.02200698852539,disc loss=0.011580751277506351,\n",
            "Epoch 153, gen loss=17.60051727294922,disc loss=0.006660164799541235,\n",
            "Epoch 154, gen loss=19.59904670715332,disc loss=0.020897245034575462,\n",
            "Epoch 155, gen loss=14.64279556274414,disc loss=0.0015326474094763398,\n",
            "Epoch 156, gen loss=17.469226837158203,disc loss=0.002672458067536354,\n",
            "Epoch 157, gen loss=15.55031967163086,disc loss=0.010134221985936165,\n",
            "Epoch 158, gen loss=23.235456466674805,disc loss=0.0032556236255913973,\n",
            "Epoch 159, gen loss=19.95421028137207,disc loss=0.0033799719531089067,\n",
            "Epoch 160, gen loss=22.71851348876953,disc loss=0.0007447899552062154,\n",
            "Epoch 161, gen loss=18.07712173461914,disc loss=0.017337771132588387,\n",
            "Epoch 162, gen loss=20.588539123535156,disc loss=0.0010386380599811673,\n",
            "Epoch 163, gen loss=19.557565689086914,disc loss=0.003798827063292265,\n",
            "Epoch 164, gen loss=25.798709869384766,disc loss=0.0016137429047375917,\n",
            "Epoch 165, gen loss=28.601863861083984,disc loss=0.00300174904987216,\n",
            "Epoch 166, gen loss=24.980432510375977,disc loss=0.0008892144542187452,\n",
            "Epoch 167, gen loss=22.031156539916992,disc loss=0.0007119379006326199,\n",
            "Epoch 168, gen loss=20.51218605041504,disc loss=0.02321757934987545,\n",
            "Epoch 169, gen loss=24.978858947753906,disc loss=0.0030711982399225235,\n",
            "Epoch 170, gen loss=24.38693618774414,disc loss=0.007388732396066189,\n",
            "Epoch 171, gen loss=28.537296295166016,disc loss=0.012725574895739555,\n",
            "Epoch 172, gen loss=25.031917572021484,disc loss=0.003766173729673028,\n",
            "Epoch 173, gen loss=34.32115173339844,disc loss=0.006633772049099207,\n",
            "Epoch 174, gen loss=29.882484436035156,disc loss=0.0013982156524434686,\n",
            "Epoch 175, gen loss=29.14856719970703,disc loss=0.01741773635149002,\n",
            "Epoch 176, gen loss=39.28654098510742,disc loss=0.055198147892951965,\n",
            "Epoch 177, gen loss=97.33091735839844,disc loss=11.995010375976562,\n",
            "Epoch 178, gen loss=34.29460144042969,disc loss=0.052027974277734756,\n",
            "Epoch 179, gen loss=61.61736297607422,disc loss=0.2614229917526245,\n",
            "Epoch 180, gen loss=96.36016845703125,disc loss=4.998498184249911e-07,\n",
            "Epoch 181, gen loss=51.63748550415039,disc loss=0.006674738600850105,\n",
            "Epoch 182, gen loss=41.23229217529297,disc loss=0.008080421946942806,\n",
            "Epoch 183, gen loss=36.39450454711914,disc loss=5.988640623399988e-06,\n",
            "Epoch 184, gen loss=33.726531982421875,disc loss=0.012686733156442642,\n",
            "Epoch 185, gen loss=35.58340835571289,disc loss=0.0058684153482317924,\n",
            "Epoch 186, gen loss=32.96139144897461,disc loss=0.0006399941048584878,\n",
            "Epoch 187, gen loss=45.80641555786133,disc loss=0.02384520322084427,\n",
            "Epoch 188, gen loss=39.94775390625,disc loss=0.02219248376786709,\n",
            "Epoch 189, gen loss=45.126441955566406,disc loss=0.0006931949174031615,\n",
            "Epoch 190, gen loss=31.616498947143555,disc loss=0.0015582708874717355,\n",
            "Epoch 191, gen loss=31.310546875,disc loss=0.004891807213425636,\n",
            "Epoch 192, gen loss=47.72898483276367,disc loss=0.0512579083442688,\n",
            "Epoch 193, gen loss=38.9992561340332,disc loss=0.005235136486589909,\n",
            "Epoch 194, gen loss=51.01353454589844,disc loss=0.0008756668539717793,\n",
            "Epoch 195, gen loss=33.72956466674805,disc loss=2.9626922696479596e-05,\n",
            "Epoch 196, gen loss=29.403907775878906,disc loss=0.01255973894149065,\n",
            "Epoch 197, gen loss=50.15993118286133,disc loss=0.006184699945151806,\n",
            "Epoch 198, gen loss=38.60430908203125,disc loss=0.008966797031462193,\n",
            "Epoch 199, gen loss=49.63949966430664,disc loss=2.7792599212261848e-05,\n",
            "Epoch 200, gen loss=42.134429931640625,disc loss=8.891804270660941e-08,\n",
            "Epoch 201, gen loss=35.53346633911133,disc loss=1.7595116332813632e-06,\n",
            "Epoch 202, gen loss=27.239198684692383,disc loss=0.0017139585688710213,\n",
            "Epoch 203, gen loss=36.04225540161133,disc loss=1.0174286444453173e-06,\n",
            "Epoch 204, gen loss=33.33378982543945,disc loss=0.00048262751079164445,\n",
            "Epoch 205, gen loss=29.89532470703125,disc loss=0.0010927728144451976,\n",
            "Epoch 206, gen loss=42.20390319824219,disc loss=0.03395385667681694,\n",
            "Epoch 207, gen loss=28.26265525817871,disc loss=8.229481318267062e-05,\n",
            "Epoch 208, gen loss=26.6346492767334,disc loss=0.0007900458294898272,\n",
            "Epoch 209, gen loss=32.39302062988281,disc loss=1.6966978364507668e-05,\n",
            "Epoch 210, gen loss=32.71446990966797,disc loss=0.002265765331685543,\n",
            "Epoch 211, gen loss=39.95035934448242,disc loss=2.86480872091488e-06,\n",
            "Epoch 212, gen loss=34.15138626098633,disc loss=9.350971595267765e-06,\n",
            "Epoch 213, gen loss=30.65278434753418,disc loss=6.1136638578318525e-06,\n",
            "Epoch 214, gen loss=26.134910583496094,disc loss=0.0002130818902514875,\n",
            "Epoch 215, gen loss=27.552684783935547,disc loss=0.00018211614224128425,\n",
            "Epoch 216, gen loss=35.95673370361328,disc loss=0.0030238351318985224,\n",
            "Epoch 217, gen loss=36.19072723388672,disc loss=0.007339645642787218,\n",
            "Epoch 218, gen loss=31.293495178222656,disc loss=1.453666300221812e-06,\n",
            "Epoch 219, gen loss=29.09725570678711,disc loss=0.0002427627914585173,\n",
            "Epoch 220, gen loss=30.165212631225586,disc loss=8.871824320522137e-06,\n",
            "Epoch 221, gen loss=34.02109146118164,disc loss=0.0005413740291260183,\n",
            "Epoch 222, gen loss=28.613454818725586,disc loss=0.0029345687944442034,\n",
            "Epoch 223, gen loss=39.32469177246094,disc loss=3.884478303461947e-07,\n",
            "Epoch 224, gen loss=38.554866790771484,disc loss=0.00017713407578412443,\n",
            "Epoch 225, gen loss=38.59016418457031,disc loss=0.0012350698234513402,\n",
            "Epoch 226, gen loss=33.58769226074219,disc loss=0.004366503097116947,\n",
            "Epoch 227, gen loss=35.4670295715332,disc loss=0.0039572822861373425,\n",
            "Epoch 228, gen loss=53.268341064453125,disc loss=0.008163940161466599,\n",
            "Epoch 229, gen loss=42.5980110168457,disc loss=5.5699116430218965e-09,\n",
            "Epoch 230, gen loss=37.70118713378906,disc loss=1.1555040657640347e-07,\n",
            "Epoch 231, gen loss=33.62129592895508,disc loss=1.2474495633796323e-05,\n"
          ]
        }
      ]
    }
  ]
}